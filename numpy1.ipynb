{
 "cells": [
  {
   "cell_type": "markdown",
   "id": "5fb2790f",
   "metadata": {},
   "source": [
    "# NumPy"
   ]
  },
  {
   "cell_type": "markdown",
   "id": "923c29e9",
   "metadata": {},
   "source": [
    "**NumPy** - Библиотека для работы с многомерными массивами, например векторами и матрицами."
   ]
  },
  {
   "cell_type": "markdown",
   "id": "79808673",
   "metadata": {},
   "source": [
    "## Создание массивов"
   ]
  },
  {
   "cell_type": "markdown",
   "id": "988a89c7",
   "metadata": {},
   "source": [
    "Самый простой вариант - из привычных списков"
   ]
  },
  {
   "cell_type": "code",
   "execution_count": null,
   "id": "e0aa21c0",
   "metadata": {},
   "outputs": [],
   "source": [
    "import numpy as np\n",
    "\n",
    "a = np.array([1, 2, 3])\n",
    "print(a)\n",
    "print(type(a), type([1, 2, 3]))"
   ]
  },
  {
   "cell_type": "markdown",
   "id": "16083d30",
   "metadata": {},
   "source": [
    "Создадим теперь двумерный массив - матрицу:"
   ]
  },
  {
   "cell_type": "code",
   "execution_count": null,
   "id": "155fbfdd",
   "metadata": {},
   "outputs": [],
   "source": [
    "a = np.array([[1, 2], [3, 4]])\n",
    "print(a)"
   ]
  },
  {
   "cell_type": "markdown",
   "id": "611f3820",
   "metadata": {},
   "source": [
    "Для удобства, можно использовать вот такую функцию для красивого отображения матриц в Jupyter:"
   ]
  },
  {
   "cell_type": "code",
   "execution_count": null,
   "id": "216d8f4a",
   "metadata": {},
   "outputs": [],
   "source": [
    "import IPython.display\n",
    "\n",
    "def show(mat):\n",
    "    tex = r'\\begin{pmatrix}' + r'\\\\'.join('&'.join(map(str, row)) for row in mat) + r'\\end{pmatrix}'\n",
    "    IPython.display.display(IPython.display.Math(tex))\n",
    "\n",
    "show(a)"
   ]
  },
  {
   "cell_type": "markdown",
   "id": "4393b79a",
   "metadata": {},
   "source": [
    "Еще несколько способов создания стандартных массивов:"
   ]
  },
  {
   "cell_type": "code",
   "execution_count": null,
   "id": "c60101b8",
   "metadata": {},
   "outputs": [],
   "source": [
    "np.repeat(15, 5) # Массив полученные повторением исходного объекта"
   ]
  },
  {
   "cell_type": "code",
   "execution_count": null,
   "id": "6b5e2051",
   "metadata": {},
   "outputs": [],
   "source": [
    "show(np.zeros((3, 3))) # Массив из нулей"
   ]
  },
  {
   "cell_type": "code",
   "execution_count": null,
   "id": "bd026f3b",
   "metadata": {},
   "outputs": [],
   "source": [
    "show(np.ones((3, 1))) # Массив из единиц"
   ]
  },
  {
   "cell_type": "code",
   "execution_count": null,
   "id": "ce0b414d",
   "metadata": {},
   "outputs": [],
   "source": [
    "show(np.eye(3)) # Единичная матрица"
   ]
  },
  {
   "cell_type": "markdown",
   "id": "db9d023e",
   "metadata": {},
   "source": [
    "В отличае от списков (`list`), массивы **NumPy** всегда состоят из однотипных элементов.\n",
    "При создании массивов можно явно указать тип эелементов. При этом в **NumPy** свои типы, например `numpy.int32`, `numpy.int64`, `numpy.float64`. Впрочем, можно указывать и стандартные типы, которые будут отображены в `numpy` типы. Например:"
   ]
  },
  {
   "cell_type": "code",
   "execution_count": null,
   "id": "a5fa080b",
   "metadata": {
    "scrolled": true
   },
   "outputs": [],
   "source": [
    "a = np.eye(3, dtype=int)\n",
    "print(a.dtype)\n",
    "print(type(a[0][0]))\n",
    "show(a)"
   ]
  },
  {
   "cell_type": "code",
   "execution_count": null,
   "id": "25d32f27",
   "metadata": {},
   "outputs": [],
   "source": [
    "np.array([1, 2, 5], np.float64)"
   ]
  },
  {
   "cell_type": "markdown",
   "id": "130c5772",
   "metadata": {},
   "source": [
    "Или даже"
   ]
  },
  {
   "cell_type": "code",
   "execution_count": null,
   "id": "cebf3f30",
   "metadata": {},
   "outputs": [],
   "source": [
    "np.array(input().split(), float)"
   ]
  },
  {
   "cell_type": "markdown",
   "id": "32d4cc8d",
   "metadata": {},
   "source": [
    "## Операции над массивами"
   ]
  },
  {
   "cell_type": "markdown",
   "id": "581f6f68",
   "metadata": {},
   "source": [
    "В **NumPy** нам доступны все стандартные математические операции над массивами - от суммы векторов до произведения матриц."
   ]
  },
  {
   "cell_type": "markdown",
   "id": "e597cad2",
   "metadata": {},
   "source": [
    "Умножение на число:"
   ]
  },
  {
   "cell_type": "code",
   "execution_count": null,
   "id": "807fb963",
   "metadata": {},
   "outputs": [],
   "source": [
    "a = np.array([1, 2, 3])\n",
    "a * 2"
   ]
  },
  {
   "cell_type": "markdown",
   "id": "1fcb637a",
   "metadata": {},
   "source": [
    "Сравните с тем, как работает эта операция со стандартными списками:"
   ]
  },
  {
   "cell_type": "code",
   "execution_count": null,
   "id": "34876813",
   "metadata": {},
   "outputs": [],
   "source": [
    "[1, 2, 3] * 2"
   ]
  },
  {
   "cell_type": "markdown",
   "id": "6287f127",
   "metadata": {},
   "source": [
    "Аналогично работает и деление на число, а также и остальные арифметические операции массива с числом - поэлементно.\n",
    "Также естественно работает сложение векторов:"
   ]
  },
  {
   "cell_type": "code",
   "execution_count": null,
   "id": "9b314a38",
   "metadata": {},
   "outputs": [],
   "source": [
    "np.array([1, 2, 3]) + np.array([3, 2, 1])"
   ]
  },
  {
   "cell_type": "markdown",
   "id": "5a70fd52",
   "metadata": {},
   "source": [
    "Однако, умножение оператором `*` не является ни скалярным, ни векторным произведением. Напротив, `*` работает также как и `+` и все остальные арифметичекие операторы - поэлементно:"
   ]
  },
  {
   "cell_type": "code",
   "execution_count": null,
   "id": "86d5ca2e",
   "metadata": {},
   "outputs": [],
   "source": [
    "np.array([1, 2, 3]) * np.array([2, 2, 1])"
   ]
  },
  {
   "cell_type": "markdown",
   "id": "4a23e107",
   "metadata": {},
   "source": [
    "Для вычисления скалярного произведения есть метод `.dot()` у массивов, например `a.dot(b)`. Векторное произведенией записывается как `np.cross(a, b)`, а длину вектора можно вычислить как `np.linalg.norm(a)`.\n",
    "Итак, теперь вы во всеоружии, пришло время размяться:"
   ]
  },
  {
   "cell_type": "markdown",
   "id": "0f93fc2e",
   "metadata": {},
   "source": [
    "### Упражнение 1"
   ]
  },
  {
   "cell_type": "markdown",
   "id": "9307c880",
   "metadata": {},
   "source": [
    "На плоскости расположено несколько маленьких шариков разных масс. Пользователь задает их координаты (на плоскости) и массы. Выведите координты центра масс всей системы. Формат ввода организуйте на свой вкус."
   ]
  },
  {
   "cell_type": "code",
   "execution_count": null,
   "id": "171710e5",
   "metadata": {},
   "outputs": [],
   "source": []
  },
  {
   "cell_type": "markdown",
   "id": "faf0fd7a",
   "metadata": {},
   "source": [
    "### Упражнение 2"
   ]
  },
  {
   "cell_type": "markdown",
   "id": "98800cff",
   "metadata": {},
   "source": [
    "Свет падает на плоскость в направлении заданным вектором L (в 3-мерном пространстве). Сама плоскость задана тремя точками A, B и C, через которые она проходит. Найдите вектор отраженного света. Пользователь вводит L, A, B и C, в виде троек чисел - координат через пробел, каждый вектор в новой строке."
   ]
  },
  {
   "cell_type": "code",
   "execution_count": null,
   "id": "75335e6f",
   "metadata": {},
   "outputs": [],
   "source": []
  },
  {
   "cell_type": "markdown",
   "id": "f687a8fa",
   "metadata": {},
   "source": [
    "Также, **NumPy** предоставляет нам привычные оперции над матрицами:\n",
    "- `np.linalg.det(a)` - определитель матрицы `a`\n",
    "- `a.T` - транспонированная матрица\n",
    "- `np.matmul(a, b)` - произведение матриц"
   ]
  },
  {
   "cell_type": "code",
   "execution_count": null,
   "id": "eea1fb40",
   "metadata": {},
   "outputs": [],
   "source": [
    "a = np.array([[1, 2], [3, 4]])\n",
    "show(a)\n",
    "b = a.T\n",
    "show(b)\n",
    "b[1][0] = 10\n",
    "show(b)\n",
    "show(a)"
   ]
  },
  {
   "cell_type": "markdown",
   "id": "cd85aec3",
   "metadata": {},
   "source": [
    "Обратите внимание, при изменении элемента `b`, матрица `a` тоже изменилась. Это потому, что `a.T` не создает новой матрицы, а лишь предоставляет доступ к имеющимся данным \"по-другому\"."
   ]
  },
  {
   "cell_type": "markdown",
   "id": "deb248e1",
   "metadata": {},
   "source": [
    "### Упражнение 3"
   ]
  },
  {
   "cell_type": "markdown",
   "id": "d0b24d4c",
   "metadata": {},
   "source": [
    "Пользователь вводит две квадратные матрицы 3x3. Посчитайте их произведение без использования numpy. Затем с помощью `np.matmul()`. Выведите оба результата."
   ]
  },
  {
   "cell_type": "code",
   "execution_count": null,
   "id": "3728c788",
   "metadata": {},
   "outputs": [],
   "source": []
  },
  {
   "cell_type": "markdown",
   "id": "18bd298d",
   "metadata": {},
   "source": [
    "# Matplotlib"
   ]
  },
  {
   "cell_type": "markdown",
   "id": "477f81f8",
   "metadata": {},
   "source": [
    "Построение графика по точкам:"
   ]
  },
  {
   "cell_type": "code",
   "execution_count": null,
   "id": "4a407128",
   "metadata": {},
   "outputs": [],
   "source": [
    "import matplotlib.pyplot as plt\n",
    "plt.plot([1, 2, 3, 4, 5], [3, 2, 3, 4, 4])\n",
    "plt.show()"
   ]
  },
  {
   "cell_type": "markdown",
   "id": "731927d4",
   "metadata": {},
   "source": [
    "Что ж, построим что-нибудь поинтереснее. Для этого нам понадобятся две новые фишки `numpy`:\n",
    "`np.linspace(a, b, n)` - создает возрастающий массив чисел от `a` до `b` через равные промежутки из `n` элементов - то что нам нужно для оси X.\n",
    "`np.vectorize(f)` - создает новую функцию, которая умеет преобразовывать вектор целиком, применяя к каждому элементу функцию `f`."
   ]
  },
  {
   "cell_type": "code",
   "execution_count": null,
   "id": "2a0dd694",
   "metadata": {},
   "outputs": [],
   "source": [
    "import math\n",
    "x = np.linspace(-5, 5, 100)\n",
    "y = np.vectorize(math.sin)(x)\n",
    "\n",
    "# Заодно, добавим некоторые дополнительные элементы:\n",
    "plt.title('График функции y = sin(x)')  # заголовок\n",
    "plt.xlabel('x')  # ось абсцисс\n",
    "plt.ylabel('y')  # ось ординат\n",
    "plt.grid() # включение отображение сетки\n",
    "plt.axis('equal') # выровнять масштаб по осям (попробуйте закомментировать)\n",
    "\n",
    "plt.plot(x, y)\n",
    "plt.show()"
   ]
  },
  {
   "cell_type": "markdown",
   "id": "510aa417",
   "metadata": {},
   "source": [
    "### Упражнение 4"
   ]
  },
  {
   "cell_type": "markdown",
   "id": "ff25b8fa",
   "metadata": {},
   "source": [
    "С помощью matplotlib нарисуйте график функции $y(x) = 10x^3 + 2x^2 - x$"
   ]
  },
  {
   "cell_type": "code",
   "execution_count": null,
   "id": "80cf2bd8",
   "metadata": {},
   "outputs": [],
   "source": []
  },
  {
   "cell_type": "markdown",
   "id": "b05c0e0a",
   "metadata": {},
   "source": [
    "### Упражнение 5\n",
    "С помощью matplotlib нарисуйте спираль"
   ]
  },
  {
   "cell_type": "code",
   "execution_count": null,
   "id": "8ca7bc66",
   "metadata": {},
   "outputs": [],
   "source": [
    "\n"
   ]
  },
  {
   "cell_type": "markdown",
   "id": "999ea772",
   "metadata": {},
   "source": [
    "### Точечная диаграмма\n",
    "Познакомимся с двумя новыми функциями:\n",
    "\n",
    "`numpy.random.rand(n)` - случайный вектор из `n` элементов\n",
    "\n",
    "`matplotlib.pyplot.scatter(x, y, ...)` - рисуем точки, точнее круги. Некоторые аргументы:\n",
    "\n",
    "   - `x` - массив x-координат\n",
    "   - `y` - массив y-координат\n",
    "   - `s` - массив площадей кругов\n",
    "   - `c` - массив цветов\n",
    "   - `alpha` - степень прозрачности кругов"
   ]
  },
  {
   "cell_type": "code",
   "execution_count": null,
   "id": "65f7fe27",
   "metadata": {},
   "outputs": [],
   "source": [
    "n = 50\n",
    "x = np.random.rand(n)\n",
    "y = np.random.rand(n)\n",
    "colors = np.random.rand(n)\n",
    "sq = (30 * np.random.rand(n)) ** 2\n",
    "\n",
    "plt.scatter(x, y, s=sq, c=colors, alpha=0.5)\n",
    "plt.show()"
   ]
  },
  {
   "cell_type": "markdown",
   "id": "f2aa735a",
   "metadata": {},
   "source": [
    "### Упражнение 6\n",
    "В Python можно легко работать с комплексными числами. Например, число $1+2i$ записывается как `1 + 2j`, или `complex(1, 2)`. Действительную часть комплексного числа можно получить как `x.real`, а комплексную - `x.imag`. Постройте на плоскости последовательность точек, заданную рекурсивной формулой $z_{n+1} = z_n^2 + c$ где $c$ - некоторая комплексная константа (пусть ее задает пользователь) а $z_0 = 0$. Точки плоскости $c$, для которых данная последовательность ограничена, образуют известный фрактал - [множество Мандельброта](https://ru.wikipedia.org/wiki/%D0%9C%D0%BD%D0%BE%D0%B6%D0%B5%D1%81%D1%82%D0%B2%D0%BE_%D0%9C%D0%B0%D0%BD%D0%B4%D0%B5%D0%BB%D1%8C%D0%B1%D1%80%D0%BE%D1%82%D0%B0)."
   ]
  },
  {
   "cell_type": "code",
   "execution_count": null,
   "id": "38161241",
   "metadata": {},
   "outputs": [],
   "source": []
  }
 ],
 "metadata": {
  "kernelspec": {
   "display_name": "Python 3 (ipykernel)",
   "language": "python",
   "name": "python3"
  },
  "language_info": {
   "codemirror_mode": {
    "name": "ipython",
    "version": 3
   },
   "file_extension": ".py",
   "mimetype": "text/x-python",
   "name": "python",
   "nbconvert_exporter": "python",
   "pygments_lexer": "ipython3",
   "version": "3.10.6"
  }
 },
 "nbformat": 4,
 "nbformat_minor": 5
}
